{
 "cells": [
  {
   "cell_type": "code",
   "execution_count": 1,
   "metadata": {},
   "outputs": [],
   "source": [
    "import pandas as pd"
   ]
  },
  {
   "cell_type": "code",
   "execution_count": 2,
   "metadata": {},
   "outputs": [],
   "source": [
    "customer_df=pd.read_csv(r'C:\\Users\\Priyanka Malavade\\Desktop\\Data Spark\\cleaned_dataset\\cleaned_customer.csv')\n",
    "product_df=pd.read_csv(r'C:\\Users\\Priyanka Malavade\\Desktop\\Data Spark\\cleaned_dataset\\cleaned_products.csv')\n",
    "sale_df=pd.read_csv(r'C:\\Users\\Priyanka Malavade\\Desktop\\Data Spark\\cleaned_dataset\\cleaned_sales.csv')"
   ]
  },
  {
   "cell_type": "markdown",
   "metadata": {},
   "source": [
    "#### Merging Sales Table With Customer Table('Customerkey' using left join)"
   ]
  },
  {
   "cell_type": "code",
   "execution_count": 3,
   "metadata": {},
   "outputs": [],
   "source": [
    "sale_customer_df = pd.merge(sale_df, customer_df, on='CustomerKey', how='left')"
   ]
  },
  {
   "cell_type": "markdown",
   "metadata": {},
   "source": [
    "#### Merging Sales Table With Product Table('Productkey' using left join)"
   ]
  },
  {
   "cell_type": "code",
   "execution_count": 4,
   "metadata": {},
   "outputs": [],
   "source": [
    "sale_customer_product_df = pd.merge(sale_customer_df, product_df, on='ProductKey', how='left')"
   ]
  },
  {
   "cell_type": "code",
   "execution_count": 5,
   "metadata": {},
   "outputs": [
    {
     "data": {
      "text/html": [
       "<div>\n",
       "<style scoped>\n",
       "    .dataframe tbody tr th:only-of-type {\n",
       "        vertical-align: middle;\n",
       "    }\n",
       "\n",
       "    .dataframe tbody tr th {\n",
       "        vertical-align: top;\n",
       "    }\n",
       "\n",
       "    .dataframe thead th {\n",
       "        text-align: right;\n",
       "    }\n",
       "</style>\n",
       "<table border=\"1\" class=\"dataframe\">\n",
       "  <thead>\n",
       "    <tr style=\"text-align: right;\">\n",
       "      <th></th>\n",
       "      <th>Order Number</th>\n",
       "      <th>Line Item</th>\n",
       "      <th>Order Date</th>\n",
       "      <th>Delivery Date</th>\n",
       "      <th>CustomerKey</th>\n",
       "      <th>StoreKey</th>\n",
       "      <th>ProductKey</th>\n",
       "      <th>Quantity</th>\n",
       "      <th>Currency Code</th>\n",
       "      <th>Unnamed: 0_x</th>\n",
       "      <th>...</th>\n",
       "      <th>Unnamed: 0_y</th>\n",
       "      <th>Product Name</th>\n",
       "      <th>Brand</th>\n",
       "      <th>Color</th>\n",
       "      <th>Unit Cost USD</th>\n",
       "      <th>Unit Price USD</th>\n",
       "      <th>SubcategoryKey</th>\n",
       "      <th>Subcategory</th>\n",
       "      <th>CategoryKey</th>\n",
       "      <th>Category</th>\n",
       "    </tr>\n",
       "  </thead>\n",
       "  <tbody>\n",
       "    <tr>\n",
       "      <th>0</th>\n",
       "      <td>366000</td>\n",
       "      <td>1</td>\n",
       "      <td>2016-01-01</td>\n",
       "      <td>Not Delivered Yet</td>\n",
       "      <td>265598</td>\n",
       "      <td>10</td>\n",
       "      <td>1304</td>\n",
       "      <td>1</td>\n",
       "      <td>CAD</td>\n",
       "      <td>1948</td>\n",
       "      <td>...</td>\n",
       "      <td>1303</td>\n",
       "      <td>Contoso Lens Adapter M450 White</td>\n",
       "      <td>Contoso</td>\n",
       "      <td>White</td>\n",
       "      <td>31.27</td>\n",
       "      <td>68.00</td>\n",
       "      <td>406</td>\n",
       "      <td>Cameras &amp; Camcorders Accessories</td>\n",
       "      <td>4</td>\n",
       "      <td>Cameras and camcorders</td>\n",
       "    </tr>\n",
       "    <tr>\n",
       "      <th>1</th>\n",
       "      <td>366001</td>\n",
       "      <td>1</td>\n",
       "      <td>2016-01-01</td>\n",
       "      <td>2016-01-13 00:00:00</td>\n",
       "      <td>1269051</td>\n",
       "      <td>0</td>\n",
       "      <td>1048</td>\n",
       "      <td>2</td>\n",
       "      <td>USD</td>\n",
       "      <td>8967</td>\n",
       "      <td>...</td>\n",
       "      <td>1047</td>\n",
       "      <td>A. Datum SLR Camera X136 Silver</td>\n",
       "      <td>A. Datum</td>\n",
       "      <td>Silver</td>\n",
       "      <td>141.47</td>\n",
       "      <td>427.00</td>\n",
       "      <td>402</td>\n",
       "      <td>Digital SLR Cameras</td>\n",
       "      <td>4</td>\n",
       "      <td>Cameras and camcorders</td>\n",
       "    </tr>\n",
       "    <tr>\n",
       "      <th>2</th>\n",
       "      <td>366001</td>\n",
       "      <td>2</td>\n",
       "      <td>2016-01-01</td>\n",
       "      <td>2016-01-13 00:00:00</td>\n",
       "      <td>1269051</td>\n",
       "      <td>0</td>\n",
       "      <td>2007</td>\n",
       "      <td>1</td>\n",
       "      <td>USD</td>\n",
       "      <td>8967</td>\n",
       "      <td>...</td>\n",
       "      <td>2006</td>\n",
       "      <td>Fabrikam Microwave 1.5CuFt X1100 Black</td>\n",
       "      <td>Fabrikam</td>\n",
       "      <td>Black</td>\n",
       "      <td>220.64</td>\n",
       "      <td>665.94</td>\n",
       "      <td>803</td>\n",
       "      <td>Microwaves</td>\n",
       "      <td>8</td>\n",
       "      <td>Home Appliances</td>\n",
       "    </tr>\n",
       "  </tbody>\n",
       "</table>\n",
       "<p>3 rows × 29 columns</p>\n",
       "</div>"
      ],
      "text/plain": [
       "   Order Number  Line Item  Order Date        Delivery Date  CustomerKey  \\\n",
       "0        366000          1  2016-01-01    Not Delivered Yet       265598   \n",
       "1        366001          1  2016-01-01  2016-01-13 00:00:00      1269051   \n",
       "2        366001          2  2016-01-01  2016-01-13 00:00:00      1269051   \n",
       "\n",
       "   StoreKey  ProductKey  Quantity Currency Code  Unnamed: 0_x  ...  \\\n",
       "0        10        1304         1           CAD          1948  ...   \n",
       "1         0        1048         2           USD          8967  ...   \n",
       "2         0        2007         1           USD          8967  ...   \n",
       "\n",
       "  Unnamed: 0_y                            Product Name     Brand   Color  \\\n",
       "0         1303         Contoso Lens Adapter M450 White   Contoso   White   \n",
       "1         1047         A. Datum SLR Camera X136 Silver  A. Datum  Silver   \n",
       "2         2006  Fabrikam Microwave 1.5CuFt X1100 Black  Fabrikam   Black   \n",
       "\n",
       "  Unit Cost USD Unit Price USD SubcategoryKey  \\\n",
       "0         31.27          68.00            406   \n",
       "1        141.47         427.00            402   \n",
       "2        220.64         665.94            803   \n",
       "\n",
       "                        Subcategory CategoryKey                Category  \n",
       "0  Cameras & Camcorders Accessories           4  Cameras and camcorders  \n",
       "1               Digital SLR Cameras           4  Cameras and camcorders  \n",
       "2                        Microwaves           8         Home Appliances  \n",
       "\n",
       "[3 rows x 29 columns]"
      ]
     },
     "execution_count": 5,
     "metadata": {},
     "output_type": "execute_result"
    }
   ],
   "source": [
    "sale_customer_product_df.head(3)  #displays only 3 rows"
   ]
  },
  {
   "cell_type": "code",
   "execution_count": 7,
   "metadata": {},
   "outputs": [
    {
     "name": "stdout",
     "output_type": "stream",
     "text": [
      "Index(['Order Number', 'Line Item', 'Order Date', 'Delivery Date',\n",
      "       'CustomerKey', 'StoreKey', 'ProductKey', 'Quantity', 'Currency Code',\n",
      "       'Unnamed: 0_x', 'Gender', 'Name', 'City', 'State Code', 'State',\n",
      "       'Zip Code', 'Country', 'Continent', 'Birthday', 'Unnamed: 0_y',\n",
      "       'Product Name', 'Brand', 'Color', 'Unit Cost USD', 'Unit Price USD',\n",
      "       'SubcategoryKey', 'Subcategory', 'CategoryKey', 'Category'],\n",
      "      dtype='object')\n"
     ]
    }
   ],
   "source": [
    "print(sale_customer_product_df.columns)\n"
   ]
  },
  {
   "cell_type": "code",
   "execution_count": 8,
   "metadata": {},
   "outputs": [],
   "source": [
    "# Dropping all columns whose name starts with 'Unnamed'\n",
    "sale_customer_product_df = sale_customer_product_df.loc[:, ~sale_customer_product_df.columns.str.contains('^Unnamed')]\n"
   ]
  },
  {
   "cell_type": "code",
   "execution_count": 9,
   "metadata": {},
   "outputs": [
    {
     "data": {
      "text/plain": [
       "Index(['Order Number', 'Line Item', 'Order Date', 'Delivery Date',\n",
       "       'CustomerKey', 'StoreKey', 'ProductKey', 'Quantity', 'Currency Code',\n",
       "       'Gender', 'Name', 'City', 'State Code', 'State', 'Zip Code', 'Country',\n",
       "       'Continent', 'Birthday', 'Product Name', 'Brand', 'Color',\n",
       "       'Unit Cost USD', 'Unit Price USD', 'SubcategoryKey', 'Subcategory',\n",
       "       'CategoryKey', 'Category'],\n",
       "      dtype='object')"
      ]
     },
     "execution_count": 9,
     "metadata": {},
     "output_type": "execute_result"
    }
   ],
   "source": [
    "sale_customer_product_df.columns"
   ]
  },
  {
   "cell_type": "code",
   "execution_count": 10,
   "metadata": {},
   "outputs": [
    {
     "data": {
      "text/plain": [
       "Order Number       0\n",
       "Line Item          0\n",
       "Order Date         0\n",
       "Delivery Date      0\n",
       "CustomerKey        0\n",
       "StoreKey           0\n",
       "ProductKey         0\n",
       "Quantity           0\n",
       "Currency Code      0\n",
       "Gender             0\n",
       "Name               0\n",
       "City               0\n",
       "State Code        30\n",
       "State              0\n",
       "Zip Code           0\n",
       "Country            0\n",
       "Continent          0\n",
       "Birthday           0\n",
       "Product Name       0\n",
       "Brand              0\n",
       "Color              0\n",
       "Unit Cost USD      0\n",
       "Unit Price USD     0\n",
       "SubcategoryKey     0\n",
       "Subcategory        0\n",
       "CategoryKey        0\n",
       "Category           0\n",
       "dtype: int64"
      ]
     },
     "execution_count": 10,
     "metadata": {},
     "output_type": "execute_result"
    }
   ],
   "source": [
    "sale_customer_product_df.isnull().sum()"
   ]
  },
  {
   "cell_type": "code",
   "execution_count": 13,
   "metadata": {},
   "outputs": [],
   "source": [
    "\n",
    "# Use .loc to modify the column in place\n",
    "sale_customer_product_df.loc[:, 'State Code'] = sale_customer_product_df['State Code'].fillna('Unknown')\n"
   ]
  },
  {
   "cell_type": "code",
   "execution_count": 14,
   "metadata": {},
   "outputs": [
    {
     "data": {
      "text/plain": [
       "Order Number      0\n",
       "Line Item         0\n",
       "Order Date        0\n",
       "Delivery Date     0\n",
       "CustomerKey       0\n",
       "StoreKey          0\n",
       "ProductKey        0\n",
       "Quantity          0\n",
       "Currency Code     0\n",
       "Gender            0\n",
       "Name              0\n",
       "City              0\n",
       "State Code        0\n",
       "State             0\n",
       "Zip Code          0\n",
       "Country           0\n",
       "Continent         0\n",
       "Birthday          0\n",
       "Product Name      0\n",
       "Brand             0\n",
       "Color             0\n",
       "Unit Cost USD     0\n",
       "Unit Price USD    0\n",
       "SubcategoryKey    0\n",
       "Subcategory       0\n",
       "CategoryKey       0\n",
       "Category          0\n",
       "dtype: int64"
      ]
     },
     "execution_count": 14,
     "metadata": {},
     "output_type": "execute_result"
    }
   ],
   "source": [
    "sale_customer_product_df.isnull().sum()"
   ]
  },
  {
   "cell_type": "code",
   "execution_count": 15,
   "metadata": {},
   "outputs": [
    {
     "data": {
      "text/plain": [
       "Order Number        int64\n",
       "Line Item           int64\n",
       "Order Date         object\n",
       "Delivery Date      object\n",
       "CustomerKey         int64\n",
       "StoreKey            int64\n",
       "ProductKey          int64\n",
       "Quantity            int64\n",
       "Currency Code      object\n",
       "Gender             object\n",
       "Name               object\n",
       "City               object\n",
       "State Code         object\n",
       "State              object\n",
       "Zip Code           object\n",
       "Country            object\n",
       "Continent          object\n",
       "Birthday           object\n",
       "Product Name       object\n",
       "Brand              object\n",
       "Color              object\n",
       "Unit Cost USD     float64\n",
       "Unit Price USD    float64\n",
       "SubcategoryKey      int64\n",
       "Subcategory        object\n",
       "CategoryKey         int64\n",
       "Category           object\n",
       "dtype: object"
      ]
     },
     "execution_count": 15,
     "metadata": {},
     "output_type": "execute_result"
    }
   ],
   "source": [
    "sale_customer_product_df.dtypes"
   ]
  },
  {
   "cell_type": "code",
   "execution_count": 22,
   "metadata": {},
   "outputs": [],
   "source": [
    "# Converting 'Order Date', 'Delivery Date', and 'Birthday' to datetime, with invalid entries as NaT\n",
    "# Using .loc to modify columns safely\n",
    "sale_customer_product_df.loc[:, 'Order Date'] = pd.to_datetime(sale_customer_product_df['Order Date'], errors='coerce')\n",
    "sale_customer_product_df.loc[:, 'Delivery Date'] = pd.to_datetime(sale_customer_product_df['Delivery Date'], errors='coerce')\n",
    "sale_customer_product_df.loc[:, 'Birthday'] = pd.to_datetime(sale_customer_product_df['Birthday'], errors='coerce')\n"
   ]
  },
  {
   "cell_type": "code",
   "execution_count": 23,
   "metadata": {},
   "outputs": [],
   "source": [
    "categorical_columns = ['Gender', 'Currency Code', 'State Code', 'State', 'City', 'Country', 'Continent', 'Product Name', 'Brand', 'Color', 'Subcategory', 'Category']\n",
    "# Using .loc to modify multiple columns to 'category' dtype\n",
    "sale_customer_product_df.loc[:, categorical_columns] = sale_customer_product_df[categorical_columns].astype('category')\n"
   ]
  },
  {
   "cell_type": "code",
   "execution_count": 25,
   "metadata": {},
   "outputs": [],
   "source": [
    "# Using .loc to modify the column type\n",
    "sale_customer_product_df.loc[:, 'Zip Code'] = sale_customer_product_df['Zip Code'].astype('category')\n"
   ]
  },
  {
   "cell_type": "code",
   "execution_count": 26,
   "metadata": {},
   "outputs": [
    {
     "data": {
      "text/plain": [
       "Order Number               int64\n",
       "Line Item                  int64\n",
       "Order Date        datetime64[ns]\n",
       "Delivery Date     datetime64[ns]\n",
       "CustomerKey                int64\n",
       "StoreKey                   int64\n",
       "ProductKey                 int64\n",
       "Quantity                   int64\n",
       "Currency Code           category\n",
       "Gender                  category\n",
       "Name                      object\n",
       "City                    category\n",
       "State Code              category\n",
       "State                   category\n",
       "Zip Code                category\n",
       "Country                 category\n",
       "Continent               category\n",
       "Birthday          datetime64[ns]\n",
       "Product Name            category\n",
       "Brand                   category\n",
       "Color                   category\n",
       "Unit Cost USD            float64\n",
       "Unit Price USD           float64\n",
       "SubcategoryKey             int64\n",
       "Subcategory             category\n",
       "CategoryKey                int64\n",
       "Category                category\n",
       "dtype: object"
      ]
     },
     "execution_count": 26,
     "metadata": {},
     "output_type": "execute_result"
    }
   ],
   "source": [
    "sale_customer_product_df.dtypes"
   ]
  },
  {
   "cell_type": "code",
   "execution_count": 27,
   "metadata": {},
   "outputs": [
    {
     "data": {
      "text/plain": [
       "np.int64(0)"
      ]
     },
     "execution_count": 27,
     "metadata": {},
     "output_type": "execute_result"
    }
   ],
   "source": [
    "sale_customer_product_df.duplicated().sum()"
   ]
  },
  {
   "cell_type": "code",
   "execution_count": 28,
   "metadata": {},
   "outputs": [],
   "source": [
    "sale_customer_product_df.to_csv(r'C:\\Users\\Priyanka Malavade\\Desktop\\Data Spark\\cleaned_dataset\\merged_sales_customer_product_data.csv', index=False)"
   ]
  }
 ],
 "metadata": {
  "kernelspec": {
   "display_name": "Python 3",
   "language": "python",
   "name": "python3"
  },
  "language_info": {
   "codemirror_mode": {
    "name": "ipython",
    "version": 3
   },
   "file_extension": ".py",
   "mimetype": "text/x-python",
   "name": "python",
   "nbconvert_exporter": "python",
   "pygments_lexer": "ipython3",
   "version": "3.13.1"
  }
 },
 "nbformat": 4,
 "nbformat_minor": 2
}
