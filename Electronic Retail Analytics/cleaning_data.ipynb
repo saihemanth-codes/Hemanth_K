{
 "cells": [
  {
   "cell_type": "code",
   "execution_count": 1,
   "metadata": {},
   "outputs": [],
   "source": [
    "import pandas as pd"
   ]
  },
  {
   "cell_type": "markdown",
   "metadata": {},
   "source": [
    "## CUSTOMER"
   ]
  },
  {
   "cell_type": "code",
   "execution_count": 2,
   "metadata": {},
   "outputs": [
    {
     "data": {
      "text/html": [
       "<div>\n",
       "<style scoped>\n",
       "    .dataframe tbody tr th:only-of-type {\n",
       "        vertical-align: middle;\n",
       "    }\n",
       "\n",
       "    .dataframe tbody tr th {\n",
       "        vertical-align: top;\n",
       "    }\n",
       "\n",
       "    .dataframe thead th {\n",
       "        text-align: right;\n",
       "    }\n",
       "</style>\n",
       "<table border=\"1\" class=\"dataframe\">\n",
       "  <thead>\n",
       "    <tr style=\"text-align: right;\">\n",
       "      <th></th>\n",
       "      <th>CustomerKey</th>\n",
       "      <th>Gender</th>\n",
       "      <th>Name</th>\n",
       "      <th>City</th>\n",
       "      <th>State Code</th>\n",
       "      <th>State</th>\n",
       "      <th>Zip Code</th>\n",
       "      <th>Country</th>\n",
       "      <th>Continent</th>\n",
       "      <th>Birthday</th>\n",
       "    </tr>\n",
       "  </thead>\n",
       "  <tbody>\n",
       "    <tr>\n",
       "      <th>0</th>\n",
       "      <td>301</td>\n",
       "      <td>Female</td>\n",
       "      <td>Lilly Harding</td>\n",
       "      <td>WANDEARAH EAST</td>\n",
       "      <td>SA</td>\n",
       "      <td>South Australia</td>\n",
       "      <td>5523</td>\n",
       "      <td>Australia</td>\n",
       "      <td>Australia</td>\n",
       "      <td>7/3/1939</td>\n",
       "    </tr>\n",
       "    <tr>\n",
       "      <th>1</th>\n",
       "      <td>325</td>\n",
       "      <td>Female</td>\n",
       "      <td>Madison Hull</td>\n",
       "      <td>MOUNT BUDD</td>\n",
       "      <td>WA</td>\n",
       "      <td>Western Australia</td>\n",
       "      <td>6522</td>\n",
       "      <td>Australia</td>\n",
       "      <td>Australia</td>\n",
       "      <td>9/27/1979</td>\n",
       "    </tr>\n",
       "    <tr>\n",
       "      <th>2</th>\n",
       "      <td>554</td>\n",
       "      <td>Female</td>\n",
       "      <td>Claire Ferres</td>\n",
       "      <td>WINJALLOK</td>\n",
       "      <td>VIC</td>\n",
       "      <td>Victoria</td>\n",
       "      <td>3380</td>\n",
       "      <td>Australia</td>\n",
       "      <td>Australia</td>\n",
       "      <td>5/26/1947</td>\n",
       "    </tr>\n",
       "    <tr>\n",
       "      <th>3</th>\n",
       "      <td>786</td>\n",
       "      <td>Male</td>\n",
       "      <td>Jai Poltpalingada</td>\n",
       "      <td>MIDDLE RIVER</td>\n",
       "      <td>SA</td>\n",
       "      <td>South Australia</td>\n",
       "      <td>5223</td>\n",
       "      <td>Australia</td>\n",
       "      <td>Australia</td>\n",
       "      <td>9/17/1957</td>\n",
       "    </tr>\n",
       "    <tr>\n",
       "      <th>4</th>\n",
       "      <td>1042</td>\n",
       "      <td>Male</td>\n",
       "      <td>Aidan Pankhurst</td>\n",
       "      <td>TAWONGA SOUTH</td>\n",
       "      <td>VIC</td>\n",
       "      <td>Victoria</td>\n",
       "      <td>3698</td>\n",
       "      <td>Australia</td>\n",
       "      <td>Australia</td>\n",
       "      <td>11/19/1965</td>\n",
       "    </tr>\n",
       "    <tr>\n",
       "      <th>...</th>\n",
       "      <td>...</td>\n",
       "      <td>...</td>\n",
       "      <td>...</td>\n",
       "      <td>...</td>\n",
       "      <td>...</td>\n",
       "      <td>...</td>\n",
       "      <td>...</td>\n",
       "      <td>...</td>\n",
       "      <td>...</td>\n",
       "      <td>...</td>\n",
       "    </tr>\n",
       "    <tr>\n",
       "      <th>15261</th>\n",
       "      <td>2099600</td>\n",
       "      <td>Female</td>\n",
       "      <td>Denisa Duková</td>\n",
       "      <td>Houston</td>\n",
       "      <td>TX</td>\n",
       "      <td>Texas</td>\n",
       "      <td>77017</td>\n",
       "      <td>United States</td>\n",
       "      <td>North America</td>\n",
       "      <td>3/25/1936</td>\n",
       "    </tr>\n",
       "    <tr>\n",
       "      <th>15262</th>\n",
       "      <td>2099618</td>\n",
       "      <td>Male</td>\n",
       "      <td>Justin Solórzano</td>\n",
       "      <td>Mclean</td>\n",
       "      <td>VA</td>\n",
       "      <td>Virginia</td>\n",
       "      <td>22101</td>\n",
       "      <td>United States</td>\n",
       "      <td>North America</td>\n",
       "      <td>2/16/1992</td>\n",
       "    </tr>\n",
       "    <tr>\n",
       "      <th>15263</th>\n",
       "      <td>2099758</td>\n",
       "      <td>Male</td>\n",
       "      <td>Svend Petrussen</td>\n",
       "      <td>Wilmington</td>\n",
       "      <td>NC</td>\n",
       "      <td>North Carolina</td>\n",
       "      <td>28405</td>\n",
       "      <td>United States</td>\n",
       "      <td>North America</td>\n",
       "      <td>11/9/1937</td>\n",
       "    </tr>\n",
       "    <tr>\n",
       "      <th>15264</th>\n",
       "      <td>2099862</td>\n",
       "      <td>Female</td>\n",
       "      <td>Lorenza Rush</td>\n",
       "      <td>Riverside</td>\n",
       "      <td>CA</td>\n",
       "      <td>California</td>\n",
       "      <td>92501</td>\n",
       "      <td>United States</td>\n",
       "      <td>North America</td>\n",
       "      <td>10/12/1937</td>\n",
       "    </tr>\n",
       "    <tr>\n",
       "      <th>15265</th>\n",
       "      <td>2099937</td>\n",
       "      <td>Male</td>\n",
       "      <td>Zygmunt Kaminski</td>\n",
       "      <td>Bloomfield Township</td>\n",
       "      <td>MI</td>\n",
       "      <td>Michigan</td>\n",
       "      <td>48302</td>\n",
       "      <td>United States</td>\n",
       "      <td>North America</td>\n",
       "      <td>8/18/1965</td>\n",
       "    </tr>\n",
       "  </tbody>\n",
       "</table>\n",
       "<p>15266 rows × 10 columns</p>\n",
       "</div>"
      ],
      "text/plain": [
       "       CustomerKey  Gender               Name                 City State Code  \\\n",
       "0              301  Female      Lilly Harding       WANDEARAH EAST         SA   \n",
       "1              325  Female       Madison Hull           MOUNT BUDD         WA   \n",
       "2              554  Female      Claire Ferres            WINJALLOK        VIC   \n",
       "3              786    Male  Jai Poltpalingada         MIDDLE RIVER         SA   \n",
       "4             1042    Male    Aidan Pankhurst        TAWONGA SOUTH        VIC   \n",
       "...            ...     ...                ...                  ...        ...   \n",
       "15261      2099600  Female     Denisa Duková              Houston         TX   \n",
       "15262      2099618    Male   Justin Solórzano               Mclean         VA   \n",
       "15263      2099758    Male    Svend Petrussen           Wilmington         NC   \n",
       "15264      2099862  Female       Lorenza Rush            Riverside         CA   \n",
       "15265      2099937    Male   Zygmunt Kaminski  Bloomfield Township         MI   \n",
       "\n",
       "                   State Zip Code        Country      Continent    Birthday  \n",
       "0        South Australia     5523      Australia      Australia    7/3/1939  \n",
       "1      Western Australia     6522      Australia      Australia   9/27/1979  \n",
       "2               Victoria     3380      Australia      Australia   5/26/1947  \n",
       "3        South Australia     5223      Australia      Australia   9/17/1957  \n",
       "4               Victoria     3698      Australia      Australia  11/19/1965  \n",
       "...                  ...      ...            ...            ...         ...  \n",
       "15261              Texas    77017  United States  North America   3/25/1936  \n",
       "15262           Virginia    22101  United States  North America   2/16/1992  \n",
       "15263     North Carolina    28405  United States  North America   11/9/1937  \n",
       "15264         California    92501  United States  North America  10/12/1937  \n",
       "15265           Michigan    48302  United States  North America   8/18/1965  \n",
       "\n",
       "[15266 rows x 10 columns]"
      ]
     },
     "execution_count": 2,
     "metadata": {},
     "output_type": "execute_result"
    }
   ],
   "source": [
    "customer_df = pd.read_csv(r'C:\\Users\\Priyanka Malavade\\Desktop\\Data Spark\\DataSet\\Customers.csv', encoding='latin1')\n",
    "customer_df\n"
   ]
  },
  {
   "cell_type": "code",
   "execution_count": 3,
   "metadata": {},
   "outputs": [
    {
     "data": {
      "text/plain": [
       "CustomerKey     0\n",
       "Gender          0\n",
       "Name            0\n",
       "City            0\n",
       "State Code     10\n",
       "State           0\n",
       "Zip Code        0\n",
       "Country         0\n",
       "Continent       0\n",
       "Birthday        0\n",
       "dtype: int64"
      ]
     },
     "execution_count": 3,
     "metadata": {},
     "output_type": "execute_result"
    }
   ],
   "source": [
    "customer_df.isnull().sum() #checks the null value"
   ]
  },
  {
   "cell_type": "code",
   "execution_count": 4,
   "metadata": {},
   "outputs": [
    {
     "data": {
      "text/html": [
       "<div>\n",
       "<style scoped>\n",
       "    .dataframe tbody tr th:only-of-type {\n",
       "        vertical-align: middle;\n",
       "    }\n",
       "\n",
       "    .dataframe tbody tr th {\n",
       "        vertical-align: top;\n",
       "    }\n",
       "\n",
       "    .dataframe thead th {\n",
       "        text-align: right;\n",
       "    }\n",
       "</style>\n",
       "<table border=\"1\" class=\"dataframe\">\n",
       "  <thead>\n",
       "    <tr style=\"text-align: right;\">\n",
       "      <th></th>\n",
       "      <th>CustomerKey</th>\n",
       "      <th>Gender</th>\n",
       "      <th>Name</th>\n",
       "      <th>City</th>\n",
       "      <th>State Code</th>\n",
       "      <th>State</th>\n",
       "      <th>Zip Code</th>\n",
       "      <th>Country</th>\n",
       "      <th>Continent</th>\n",
       "      <th>Birthday</th>\n",
       "    </tr>\n",
       "  </thead>\n",
       "  <tbody>\n",
       "    <tr>\n",
       "      <th>0</th>\n",
       "      <td>301</td>\n",
       "      <td>Female</td>\n",
       "      <td>Lilly Harding</td>\n",
       "      <td>WANDEARAH EAST</td>\n",
       "      <td>SA</td>\n",
       "      <td>South Australia</td>\n",
       "      <td>5523</td>\n",
       "      <td>Australia</td>\n",
       "      <td>Australia</td>\n",
       "      <td>1939-07-03</td>\n",
       "    </tr>\n",
       "    <tr>\n",
       "      <th>1</th>\n",
       "      <td>325</td>\n",
       "      <td>Female</td>\n",
       "      <td>Madison Hull</td>\n",
       "      <td>MOUNT BUDD</td>\n",
       "      <td>WA</td>\n",
       "      <td>Western Australia</td>\n",
       "      <td>6522</td>\n",
       "      <td>Australia</td>\n",
       "      <td>Australia</td>\n",
       "      <td>1979-09-27</td>\n",
       "    </tr>\n",
       "    <tr>\n",
       "      <th>2</th>\n",
       "      <td>554</td>\n",
       "      <td>Female</td>\n",
       "      <td>Claire Ferres</td>\n",
       "      <td>WINJALLOK</td>\n",
       "      <td>VIC</td>\n",
       "      <td>Victoria</td>\n",
       "      <td>3380</td>\n",
       "      <td>Australia</td>\n",
       "      <td>Australia</td>\n",
       "      <td>1947-05-26</td>\n",
       "    </tr>\n",
       "  </tbody>\n",
       "</table>\n",
       "</div>"
      ],
      "text/plain": [
       "   CustomerKey  Gender           Name            City State Code  \\\n",
       "0          301  Female  Lilly Harding  WANDEARAH EAST         SA   \n",
       "1          325  Female   Madison Hull      MOUNT BUDD         WA   \n",
       "2          554  Female  Claire Ferres       WINJALLOK        VIC   \n",
       "\n",
       "               State Zip Code    Country  Continent   Birthday  \n",
       "0    South Australia     5523  Australia  Australia 1939-07-03  \n",
       "1  Western Australia     6522  Australia  Australia 1979-09-27  \n",
       "2           Victoria     3380  Australia  Australia 1947-05-26  "
      ]
     },
     "execution_count": 4,
     "metadata": {},
     "output_type": "execute_result"
    }
   ],
   "source": [
    "# Convert Birthday to datetime format\n",
    "customer_df['Birthday'] = pd.to_datetime(customer_df['Birthday'], format='%m/%d/%Y')\n",
    "\n",
    "customer_df.head(3)\n"
   ]
  },
  {
   "cell_type": "code",
   "execution_count": 5,
   "metadata": {},
   "outputs": [],
   "source": [
    "#converting datatypes for further analysis\n",
    "customer_df['Gender'] = customer_df['Gender'].astype('category')\n",
    "customer_df['CustomerKey'] =customer_df['CustomerKey'].astype(int)\n",
    "customer_df['Zip Code'] = customer_df['Zip Code'].astype(str)\n",
    "customer_df['State Code'] =customer_df['State Code'].astype(str)\n"
   ]
  },
  {
   "cell_type": "code",
   "execution_count": 6,
   "metadata": {},
   "outputs": [
    {
     "data": {
      "text/plain": [
       "CustomerKey             int64\n",
       "Gender               category\n",
       "Name                   object\n",
       "City                   object\n",
       "State Code             object\n",
       "State                  object\n",
       "Zip Code               object\n",
       "Country                object\n",
       "Continent              object\n",
       "Birthday       datetime64[ns]\n",
       "dtype: object"
      ]
     },
     "execution_count": 6,
     "metadata": {},
     "output_type": "execute_result"
    }
   ],
   "source": [
    "customer_df.dtypes   #checks the datatype"
   ]
  },
  {
   "cell_type": "code",
   "execution_count": 7,
   "metadata": {},
   "outputs": [
    {
     "name": "stdout",
     "output_type": "stream",
     "text": [
      "0\n"
     ]
    }
   ],
   "source": [
    "#check duplicate rows\n",
    "print(customer_df.duplicated().sum())\n"
   ]
  },
  {
   "cell_type": "code",
   "execution_count": 8,
   "metadata": {},
   "outputs": [
    {
     "name": "stdout",
     "output_type": "stream",
     "text": [
      "<class 'pandas.core.frame.DataFrame'>\n",
      "RangeIndex: 15266 entries, 0 to 15265\n",
      "Data columns (total 10 columns):\n",
      " #   Column       Non-Null Count  Dtype         \n",
      "---  ------       --------------  -----         \n",
      " 0   CustomerKey  15266 non-null  int64         \n",
      " 1   Gender       15266 non-null  category      \n",
      " 2   Name         15266 non-null  object        \n",
      " 3   City         15266 non-null  object        \n",
      " 4   State Code   15266 non-null  object        \n",
      " 5   State        15266 non-null  object        \n",
      " 6   Zip Code     15266 non-null  object        \n",
      " 7   Country      15266 non-null  object        \n",
      " 8   Continent    15266 non-null  object        \n",
      " 9   Birthday     15266 non-null  datetime64[ns]\n",
      "dtypes: category(1), datetime64[ns](1), int64(1), object(7)\n",
      "memory usage: 1.1+ MB\n"
     ]
    }
   ],
   "source": [
    "customer_df.info() #provides the information about the file"
   ]
  },
  {
   "cell_type": "code",
   "execution_count": 9,
   "metadata": {},
   "outputs": [
    {
     "data": {
      "text/plain": [
       "0         SA\n",
       "1         WA\n",
       "2        VIC\n",
       "3         SA\n",
       "4        VIC\n",
       "        ... \n",
       "15261     TX\n",
       "15262     VA\n",
       "15263     NC\n",
       "15264     CA\n",
       "15265     MI\n",
       "Name: State Code, Length: 15266, dtype: object"
      ]
     },
     "execution_count": 9,
     "metadata": {},
     "output_type": "execute_result"
    }
   ],
   "source": [
    "# Fill missing values in 'State Code' with 'Unknown'\n",
    "customer_df['State Code'].fillna('Unknown')\n"
   ]
  },
  {
   "cell_type": "code",
   "execution_count": 10,
   "metadata": {},
   "outputs": [
    {
     "data": {
      "text/plain": [
       "CustomerKey    0\n",
       "Gender         0\n",
       "Name           0\n",
       "City           0\n",
       "State Code     0\n",
       "State          0\n",
       "Zip Code       0\n",
       "Country        0\n",
       "Continent      0\n",
       "Birthday       0\n",
       "dtype: int64"
      ]
     },
     "execution_count": 10,
     "metadata": {},
     "output_type": "execute_result"
    }
   ],
   "source": [
    "customer_df.isnull().sum()"
   ]
  },
  {
   "cell_type": "code",
   "execution_count": 11,
   "metadata": {},
   "outputs": [],
   "source": [
    "# Save the cleaned data to a new CSV file\n",
    "customer_df.to_csv(r'C:\\Users\\Priyanka Malavade\\Desktop\\Data Spark\\cleaned_dataset\\cleaned_customer.csv')"
   ]
  },
  {
   "cell_type": "markdown",
   "metadata": {},
   "source": [
    "## PRODUCT "
   ]
  },
  {
   "cell_type": "code",
   "execution_count": 12,
   "metadata": {},
   "outputs": [
    {
     "data": {
      "text/html": [
       "<div>\n",
       "<style scoped>\n",
       "    .dataframe tbody tr th:only-of-type {\n",
       "        vertical-align: middle;\n",
       "    }\n",
       "\n",
       "    .dataframe tbody tr th {\n",
       "        vertical-align: top;\n",
       "    }\n",
       "\n",
       "    .dataframe thead th {\n",
       "        text-align: right;\n",
       "    }\n",
       "</style>\n",
       "<table border=\"1\" class=\"dataframe\">\n",
       "  <thead>\n",
       "    <tr style=\"text-align: right;\">\n",
       "      <th></th>\n",
       "      <th>ProductKey</th>\n",
       "      <th>Product Name</th>\n",
       "      <th>Brand</th>\n",
       "      <th>Color</th>\n",
       "      <th>Unit Cost USD</th>\n",
       "      <th>Unit Price USD</th>\n",
       "      <th>SubcategoryKey</th>\n",
       "      <th>Subcategory</th>\n",
       "      <th>CategoryKey</th>\n",
       "      <th>Category</th>\n",
       "    </tr>\n",
       "  </thead>\n",
       "  <tbody>\n",
       "    <tr>\n",
       "      <th>0</th>\n",
       "      <td>1</td>\n",
       "      <td>Contoso 512MB MP3 Player E51 Silver</td>\n",
       "      <td>Contoso</td>\n",
       "      <td>Silver</td>\n",
       "      <td>$6.62</td>\n",
       "      <td>$12.99</td>\n",
       "      <td>101</td>\n",
       "      <td>MP4&amp;MP3</td>\n",
       "      <td>1</td>\n",
       "      <td>Audio</td>\n",
       "    </tr>\n",
       "    <tr>\n",
       "      <th>1</th>\n",
       "      <td>2</td>\n",
       "      <td>Contoso 512MB MP3 Player E51 Blue</td>\n",
       "      <td>Contoso</td>\n",
       "      <td>Blue</td>\n",
       "      <td>$6.62</td>\n",
       "      <td>$12.99</td>\n",
       "      <td>101</td>\n",
       "      <td>MP4&amp;MP3</td>\n",
       "      <td>1</td>\n",
       "      <td>Audio</td>\n",
       "    </tr>\n",
       "    <tr>\n",
       "      <th>2</th>\n",
       "      <td>3</td>\n",
       "      <td>Contoso 1G MP3 Player E100 White</td>\n",
       "      <td>Contoso</td>\n",
       "      <td>White</td>\n",
       "      <td>$7.40</td>\n",
       "      <td>$14.52</td>\n",
       "      <td>101</td>\n",
       "      <td>MP4&amp;MP3</td>\n",
       "      <td>1</td>\n",
       "      <td>Audio</td>\n",
       "    </tr>\n",
       "    <tr>\n",
       "      <th>3</th>\n",
       "      <td>4</td>\n",
       "      <td>Contoso 2G MP3 Player E200 Silver</td>\n",
       "      <td>Contoso</td>\n",
       "      <td>Silver</td>\n",
       "      <td>$11.00</td>\n",
       "      <td>$21.57</td>\n",
       "      <td>101</td>\n",
       "      <td>MP4&amp;MP3</td>\n",
       "      <td>1</td>\n",
       "      <td>Audio</td>\n",
       "    </tr>\n",
       "    <tr>\n",
       "      <th>4</th>\n",
       "      <td>5</td>\n",
       "      <td>Contoso 2G MP3 Player E200 Red</td>\n",
       "      <td>Contoso</td>\n",
       "      <td>Red</td>\n",
       "      <td>$11.00</td>\n",
       "      <td>$21.57</td>\n",
       "      <td>101</td>\n",
       "      <td>MP4&amp;MP3</td>\n",
       "      <td>1</td>\n",
       "      <td>Audio</td>\n",
       "    </tr>\n",
       "    <tr>\n",
       "      <th>...</th>\n",
       "      <td>...</td>\n",
       "      <td>...</td>\n",
       "      <td>...</td>\n",
       "      <td>...</td>\n",
       "      <td>...</td>\n",
       "      <td>...</td>\n",
       "      <td>...</td>\n",
       "      <td>...</td>\n",
       "      <td>...</td>\n",
       "      <td>...</td>\n",
       "    </tr>\n",
       "    <tr>\n",
       "      <th>2512</th>\n",
       "      <td>2513</td>\n",
       "      <td>Contoso Bluetooth Active Headphones L15 Red</td>\n",
       "      <td>Contoso</td>\n",
       "      <td>Red</td>\n",
       "      <td>$43.07</td>\n",
       "      <td>$129.99</td>\n",
       "      <td>505</td>\n",
       "      <td>Cell phones Accessories</td>\n",
       "      <td>5</td>\n",
       "      <td>Cell phones</td>\n",
       "    </tr>\n",
       "    <tr>\n",
       "      <th>2513</th>\n",
       "      <td>2514</td>\n",
       "      <td>Contoso Bluetooth Active Headphones L15 White</td>\n",
       "      <td>Contoso</td>\n",
       "      <td>White</td>\n",
       "      <td>$43.07</td>\n",
       "      <td>$129.99</td>\n",
       "      <td>505</td>\n",
       "      <td>Cell phones Accessories</td>\n",
       "      <td>5</td>\n",
       "      <td>Cell phones</td>\n",
       "    </tr>\n",
       "    <tr>\n",
       "      <th>2514</th>\n",
       "      <td>2515</td>\n",
       "      <td>Contoso In-Line Coupler E180 White</td>\n",
       "      <td>Contoso</td>\n",
       "      <td>White</td>\n",
       "      <td>$1.71</td>\n",
       "      <td>$3.35</td>\n",
       "      <td>505</td>\n",
       "      <td>Cell phones Accessories</td>\n",
       "      <td>5</td>\n",
       "      <td>Cell phones</td>\n",
       "    </tr>\n",
       "    <tr>\n",
       "      <th>2515</th>\n",
       "      <td>2516</td>\n",
       "      <td>Contoso In-Line Coupler E180 Black</td>\n",
       "      <td>Contoso</td>\n",
       "      <td>Black</td>\n",
       "      <td>$1.71</td>\n",
       "      <td>$3.35</td>\n",
       "      <td>505</td>\n",
       "      <td>Cell phones Accessories</td>\n",
       "      <td>5</td>\n",
       "      <td>Cell phones</td>\n",
       "    </tr>\n",
       "    <tr>\n",
       "      <th>2516</th>\n",
       "      <td>2517</td>\n",
       "      <td>Contoso In-Line Coupler E180 Silver</td>\n",
       "      <td>Contoso</td>\n",
       "      <td>Silver</td>\n",
       "      <td>$1.71</td>\n",
       "      <td>$3.35</td>\n",
       "      <td>505</td>\n",
       "      <td>Cell phones Accessories</td>\n",
       "      <td>5</td>\n",
       "      <td>Cell phones</td>\n",
       "    </tr>\n",
       "  </tbody>\n",
       "</table>\n",
       "<p>2517 rows × 10 columns</p>\n",
       "</div>"
      ],
      "text/plain": [
       "      ProductKey                                   Product Name    Brand  \\\n",
       "0              1            Contoso 512MB MP3 Player E51 Silver  Contoso   \n",
       "1              2              Contoso 512MB MP3 Player E51 Blue  Contoso   \n",
       "2              3               Contoso 1G MP3 Player E100 White  Contoso   \n",
       "3              4              Contoso 2G MP3 Player E200 Silver  Contoso   \n",
       "4              5                 Contoso 2G MP3 Player E200 Red  Contoso   \n",
       "...          ...                                            ...      ...   \n",
       "2512        2513    Contoso Bluetooth Active Headphones L15 Red  Contoso   \n",
       "2513        2514  Contoso Bluetooth Active Headphones L15 White  Contoso   \n",
       "2514        2515             Contoso In-Line Coupler E180 White  Contoso   \n",
       "2515        2516             Contoso In-Line Coupler E180 Black  Contoso   \n",
       "2516        2517            Contoso In-Line Coupler E180 Silver  Contoso   \n",
       "\n",
       "       Color Unit Cost USD Unit Price USD  SubcategoryKey  \\\n",
       "0     Silver        $6.62         $12.99              101   \n",
       "1       Blue        $6.62         $12.99              101   \n",
       "2      White        $7.40         $14.52              101   \n",
       "3     Silver       $11.00         $21.57              101   \n",
       "4        Red       $11.00         $21.57              101   \n",
       "...      ...           ...            ...             ...   \n",
       "2512     Red       $43.07        $129.99              505   \n",
       "2513   White       $43.07        $129.99              505   \n",
       "2514   White        $1.71          $3.35              505   \n",
       "2515   Black        $1.71          $3.35              505   \n",
       "2516  Silver        $1.71          $3.35              505   \n",
       "\n",
       "                  Subcategory  CategoryKey     Category  \n",
       "0                     MP4&MP3            1        Audio  \n",
       "1                     MP4&MP3            1        Audio  \n",
       "2                     MP4&MP3            1        Audio  \n",
       "3                     MP4&MP3            1        Audio  \n",
       "4                     MP4&MP3            1        Audio  \n",
       "...                       ...          ...          ...  \n",
       "2512  Cell phones Accessories            5  Cell phones  \n",
       "2513  Cell phones Accessories            5  Cell phones  \n",
       "2514  Cell phones Accessories            5  Cell phones  \n",
       "2515  Cell phones Accessories            5  Cell phones  \n",
       "2516  Cell phones Accessories            5  Cell phones  \n",
       "\n",
       "[2517 rows x 10 columns]"
      ]
     },
     "execution_count": 12,
     "metadata": {},
     "output_type": "execute_result"
    }
   ],
   "source": [
    "products_df=pd.read_csv(r'C:\\Users\\Priyanka Malavade\\Desktop\\Data Spark\\DataSet\\Products.csv',encoding='latin1')\n",
    "products_df"
   ]
  },
  {
   "cell_type": "code",
   "execution_count": 13,
   "metadata": {},
   "outputs": [
    {
     "data": {
      "text/plain": [
       "ProductKey        0\n",
       "Product Name      0\n",
       "Brand             0\n",
       "Color             0\n",
       "Unit Cost USD     0\n",
       "Unit Price USD    0\n",
       "SubcategoryKey    0\n",
       "Subcategory       0\n",
       "CategoryKey       0\n",
       "Category          0\n",
       "dtype: int64"
      ]
     },
     "execution_count": 13,
     "metadata": {},
     "output_type": "execute_result"
    }
   ],
   "source": [
    "products_df.isnull().sum()"
   ]
  },
  {
   "cell_type": "code",
   "execution_count": 14,
   "metadata": {},
   "outputs": [
    {
     "name": "stdout",
     "output_type": "stream",
     "text": [
      "<class 'pandas.core.frame.DataFrame'>\n",
      "RangeIndex: 2517 entries, 0 to 2516\n",
      "Data columns (total 10 columns):\n",
      " #   Column          Non-Null Count  Dtype \n",
      "---  ------          --------------  ----- \n",
      " 0   ProductKey      2517 non-null   int64 \n",
      " 1   Product Name    2517 non-null   object\n",
      " 2   Brand           2517 non-null   object\n",
      " 3   Color           2517 non-null   object\n",
      " 4   Unit Cost USD   2517 non-null   object\n",
      " 5   Unit Price USD  2517 non-null   object\n",
      " 6   SubcategoryKey  2517 non-null   int64 \n",
      " 7   Subcategory     2517 non-null   object\n",
      " 8   CategoryKey     2517 non-null   int64 \n",
      " 9   Category        2517 non-null   object\n",
      "dtypes: int64(3), object(7)\n",
      "memory usage: 196.8+ KB\n"
     ]
    }
   ],
   "source": [
    "products_df.info()"
   ]
  },
  {
   "cell_type": "code",
   "execution_count": 15,
   "metadata": {},
   "outputs": [
    {
     "data": {
      "text/plain": [
       "ProductKey         int64\n",
       "Product Name      object\n",
       "Brand             object\n",
       "Color             object\n",
       "Unit Cost USD     object\n",
       "Unit Price USD    object\n",
       "SubcategoryKey     int64\n",
       "Subcategory       object\n",
       "CategoryKey        int64\n",
       "Category          object\n",
       "dtype: object"
      ]
     },
     "execution_count": 15,
     "metadata": {},
     "output_type": "execute_result"
    }
   ],
   "source": [
    "products_df.dtypes"
   ]
  },
  {
   "cell_type": "code",
   "execution_count": 16,
   "metadata": {},
   "outputs": [
    {
     "data": {
      "text/html": [
       "<div>\n",
       "<style scoped>\n",
       "    .dataframe tbody tr th:only-of-type {\n",
       "        vertical-align: middle;\n",
       "    }\n",
       "\n",
       "    .dataframe tbody tr th {\n",
       "        vertical-align: top;\n",
       "    }\n",
       "\n",
       "    .dataframe thead th {\n",
       "        text-align: right;\n",
       "    }\n",
       "</style>\n",
       "<table border=\"1\" class=\"dataframe\">\n",
       "  <thead>\n",
       "    <tr style=\"text-align: right;\">\n",
       "      <th></th>\n",
       "      <th>ProductKey</th>\n",
       "      <th>Product Name</th>\n",
       "      <th>Brand</th>\n",
       "      <th>Color</th>\n",
       "      <th>Unit Cost USD</th>\n",
       "      <th>Unit Price USD</th>\n",
       "      <th>SubcategoryKey</th>\n",
       "      <th>Subcategory</th>\n",
       "      <th>CategoryKey</th>\n",
       "      <th>Category</th>\n",
       "    </tr>\n",
       "  </thead>\n",
       "  <tbody>\n",
       "    <tr>\n",
       "      <th>0</th>\n",
       "      <td>1</td>\n",
       "      <td>Contoso 512MB MP3 Player E51 Silver</td>\n",
       "      <td>Contoso</td>\n",
       "      <td>Silver</td>\n",
       "      <td>6.62</td>\n",
       "      <td>12.99</td>\n",
       "      <td>101</td>\n",
       "      <td>MP4&amp;MP3</td>\n",
       "      <td>1</td>\n",
       "      <td>Audio</td>\n",
       "    </tr>\n",
       "    <tr>\n",
       "      <th>1</th>\n",
       "      <td>2</td>\n",
       "      <td>Contoso 512MB MP3 Player E51 Blue</td>\n",
       "      <td>Contoso</td>\n",
       "      <td>Blue</td>\n",
       "      <td>6.62</td>\n",
       "      <td>12.99</td>\n",
       "      <td>101</td>\n",
       "      <td>MP4&amp;MP3</td>\n",
       "      <td>1</td>\n",
       "      <td>Audio</td>\n",
       "    </tr>\n",
       "    <tr>\n",
       "      <th>2</th>\n",
       "      <td>3</td>\n",
       "      <td>Contoso 1G MP3 Player E100 White</td>\n",
       "      <td>Contoso</td>\n",
       "      <td>White</td>\n",
       "      <td>7.40</td>\n",
       "      <td>14.52</td>\n",
       "      <td>101</td>\n",
       "      <td>MP4&amp;MP3</td>\n",
       "      <td>1</td>\n",
       "      <td>Audio</td>\n",
       "    </tr>\n",
       "  </tbody>\n",
       "</table>\n",
       "</div>"
      ],
      "text/plain": [
       "   ProductKey                         Product Name    Brand   Color  \\\n",
       "0           1  Contoso 512MB MP3 Player E51 Silver  Contoso  Silver   \n",
       "1           2    Contoso 512MB MP3 Player E51 Blue  Contoso    Blue   \n",
       "2           3     Contoso 1G MP3 Player E100 White  Contoso   White   \n",
       "\n",
       "   Unit Cost USD  Unit Price USD  SubcategoryKey Subcategory  CategoryKey  \\\n",
       "0           6.62           12.99             101     MP4&MP3            1   \n",
       "1           6.62           12.99             101     MP4&MP3            1   \n",
       "2           7.40           14.52             101     MP4&MP3            1   \n",
       "\n",
       "  Category  \n",
       "0    Audio  \n",
       "1    Audio  \n",
       "2    Audio  "
      ]
     },
     "execution_count": 16,
     "metadata": {},
     "output_type": "execute_result"
    }
   ],
   "source": [
    "#removing dollar sign and commas\n",
    "products_df['Unit Cost USD'] = products_df['Unit Cost USD'].replace({r'\\$': '', ',': ''}, regex=True)\n",
    "products_df['Unit Price USD'] = products_df['Unit Price USD'].replace({r'\\$': '', ',': ''}, regex=True)\n",
    "#converting to nummeric\n",
    "products_df['Unit Cost USD'] = pd.to_numeric(products_df['Unit Cost USD'], errors='coerce')\n",
    "products_df['Unit Price USD'] = pd.to_numeric(products_df['Unit Price USD'], errors='coerce')\n",
    "products_df.head(3)  #prints only starting 3 lines of rows\n"
   ]
  },
  {
   "cell_type": "code",
   "execution_count": 17,
   "metadata": {},
   "outputs": [
    {
     "data": {
      "text/plain": [
       "ProductKey           int64\n",
       "Product Name      category\n",
       "Brand             category\n",
       "Color             category\n",
       "Unit Cost USD      float64\n",
       "Unit Price USD     float64\n",
       "SubcategoryKey       int64\n",
       "Subcategory       category\n",
       "CategoryKey          int64\n",
       "Category          category\n",
       "dtype: object"
      ]
     },
     "execution_count": 17,
     "metadata": {},
     "output_type": "execute_result"
    }
   ],
   "source": [
    "# Convert categorical columns to category type in order to reduce memory usage\n",
    "categorical_col = ['Product Name', 'Brand', 'Color', 'Subcategory', 'Category']\n",
    "for col in categorical_col:\n",
    "    products_df[col] = products_df[col].astype('category')\n",
    "\n",
    "# Checks the data types \n",
    "products_df.dtypes"
   ]
  },
  {
   "cell_type": "code",
   "execution_count": 18,
   "metadata": {},
   "outputs": [
    {
     "data": {
      "text/plain": [
       "np.int64(0)"
      ]
     },
     "execution_count": 18,
     "metadata": {},
     "output_type": "execute_result"
    }
   ],
   "source": [
    "products_df.duplicated().sum()"
   ]
  },
  {
   "cell_type": "code",
   "execution_count": 19,
   "metadata": {},
   "outputs": [],
   "source": [
    "products_df.to_csv(r'C:\\Users\\Priyanka Malavade\\Desktop\\Data Spark\\cleaned_dataset\\cleaned_products.csv')"
   ]
  },
  {
   "cell_type": "markdown",
   "metadata": {},
   "source": [
    "## SALES"
   ]
  },
  {
   "cell_type": "code",
   "execution_count": 20,
   "metadata": {},
   "outputs": [
    {
     "data": {
      "text/html": [
       "<div>\n",
       "<style scoped>\n",
       "    .dataframe tbody tr th:only-of-type {\n",
       "        vertical-align: middle;\n",
       "    }\n",
       "\n",
       "    .dataframe tbody tr th {\n",
       "        vertical-align: top;\n",
       "    }\n",
       "\n",
       "    .dataframe thead th {\n",
       "        text-align: right;\n",
       "    }\n",
       "</style>\n",
       "<table border=\"1\" class=\"dataframe\">\n",
       "  <thead>\n",
       "    <tr style=\"text-align: right;\">\n",
       "      <th></th>\n",
       "      <th>Order Number</th>\n",
       "      <th>Line Item</th>\n",
       "      <th>Order Date</th>\n",
       "      <th>Delivery Date</th>\n",
       "      <th>CustomerKey</th>\n",
       "      <th>StoreKey</th>\n",
       "      <th>ProductKey</th>\n",
       "      <th>Quantity</th>\n",
       "      <th>Currency Code</th>\n",
       "    </tr>\n",
       "  </thead>\n",
       "  <tbody>\n",
       "    <tr>\n",
       "      <th>0</th>\n",
       "      <td>366000</td>\n",
       "      <td>1</td>\n",
       "      <td>1/1/2016</td>\n",
       "      <td>NaN</td>\n",
       "      <td>265598</td>\n",
       "      <td>10</td>\n",
       "      <td>1304</td>\n",
       "      <td>1</td>\n",
       "      <td>CAD</td>\n",
       "    </tr>\n",
       "    <tr>\n",
       "      <th>1</th>\n",
       "      <td>366001</td>\n",
       "      <td>1</td>\n",
       "      <td>1/1/2016</td>\n",
       "      <td>1/13/2016</td>\n",
       "      <td>1269051</td>\n",
       "      <td>0</td>\n",
       "      <td>1048</td>\n",
       "      <td>2</td>\n",
       "      <td>USD</td>\n",
       "    </tr>\n",
       "    <tr>\n",
       "      <th>2</th>\n",
       "      <td>366001</td>\n",
       "      <td>2</td>\n",
       "      <td>1/1/2016</td>\n",
       "      <td>1/13/2016</td>\n",
       "      <td>1269051</td>\n",
       "      <td>0</td>\n",
       "      <td>2007</td>\n",
       "      <td>1</td>\n",
       "      <td>USD</td>\n",
       "    </tr>\n",
       "    <tr>\n",
       "      <th>3</th>\n",
       "      <td>366002</td>\n",
       "      <td>1</td>\n",
       "      <td>1/1/2016</td>\n",
       "      <td>1/12/2016</td>\n",
       "      <td>266019</td>\n",
       "      <td>0</td>\n",
       "      <td>1106</td>\n",
       "      <td>7</td>\n",
       "      <td>CAD</td>\n",
       "    </tr>\n",
       "    <tr>\n",
       "      <th>4</th>\n",
       "      <td>366002</td>\n",
       "      <td>2</td>\n",
       "      <td>1/1/2016</td>\n",
       "      <td>1/12/2016</td>\n",
       "      <td>266019</td>\n",
       "      <td>0</td>\n",
       "      <td>373</td>\n",
       "      <td>1</td>\n",
       "      <td>CAD</td>\n",
       "    </tr>\n",
       "    <tr>\n",
       "      <th>...</th>\n",
       "      <td>...</td>\n",
       "      <td>...</td>\n",
       "      <td>...</td>\n",
       "      <td>...</td>\n",
       "      <td>...</td>\n",
       "      <td>...</td>\n",
       "      <td>...</td>\n",
       "      <td>...</td>\n",
       "      <td>...</td>\n",
       "    </tr>\n",
       "    <tr>\n",
       "      <th>62879</th>\n",
       "      <td>2243030</td>\n",
       "      <td>1</td>\n",
       "      <td>2/20/2021</td>\n",
       "      <td>NaN</td>\n",
       "      <td>1216913</td>\n",
       "      <td>43</td>\n",
       "      <td>632</td>\n",
       "      <td>3</td>\n",
       "      <td>USD</td>\n",
       "    </tr>\n",
       "    <tr>\n",
       "      <th>62880</th>\n",
       "      <td>2243031</td>\n",
       "      <td>1</td>\n",
       "      <td>2/20/2021</td>\n",
       "      <td>2/24/2021</td>\n",
       "      <td>511229</td>\n",
       "      <td>0</td>\n",
       "      <td>98</td>\n",
       "      <td>4</td>\n",
       "      <td>EUR</td>\n",
       "    </tr>\n",
       "    <tr>\n",
       "      <th>62881</th>\n",
       "      <td>2243032</td>\n",
       "      <td>1</td>\n",
       "      <td>2/20/2021</td>\n",
       "      <td>2/23/2021</td>\n",
       "      <td>331277</td>\n",
       "      <td>0</td>\n",
       "      <td>1613</td>\n",
       "      <td>2</td>\n",
       "      <td>CAD</td>\n",
       "    </tr>\n",
       "    <tr>\n",
       "      <th>62882</th>\n",
       "      <td>2243032</td>\n",
       "      <td>2</td>\n",
       "      <td>2/20/2021</td>\n",
       "      <td>2/23/2021</td>\n",
       "      <td>331277</td>\n",
       "      <td>0</td>\n",
       "      <td>1717</td>\n",
       "      <td>2</td>\n",
       "      <td>CAD</td>\n",
       "    </tr>\n",
       "    <tr>\n",
       "      <th>62883</th>\n",
       "      <td>2243032</td>\n",
       "      <td>3</td>\n",
       "      <td>2/20/2021</td>\n",
       "      <td>2/23/2021</td>\n",
       "      <td>331277</td>\n",
       "      <td>0</td>\n",
       "      <td>464</td>\n",
       "      <td>7</td>\n",
       "      <td>CAD</td>\n",
       "    </tr>\n",
       "  </tbody>\n",
       "</table>\n",
       "<p>62884 rows × 9 columns</p>\n",
       "</div>"
      ],
      "text/plain": [
       "       Order Number  Line Item Order Date Delivery Date  CustomerKey  \\\n",
       "0            366000          1   1/1/2016           NaN       265598   \n",
       "1            366001          1   1/1/2016     1/13/2016      1269051   \n",
       "2            366001          2   1/1/2016     1/13/2016      1269051   \n",
       "3            366002          1   1/1/2016     1/12/2016       266019   \n",
       "4            366002          2   1/1/2016     1/12/2016       266019   \n",
       "...             ...        ...        ...           ...          ...   \n",
       "62879       2243030          1  2/20/2021           NaN      1216913   \n",
       "62880       2243031          1  2/20/2021     2/24/2021       511229   \n",
       "62881       2243032          1  2/20/2021     2/23/2021       331277   \n",
       "62882       2243032          2  2/20/2021     2/23/2021       331277   \n",
       "62883       2243032          3  2/20/2021     2/23/2021       331277   \n",
       "\n",
       "       StoreKey  ProductKey  Quantity Currency Code  \n",
       "0            10        1304         1           CAD  \n",
       "1             0        1048         2           USD  \n",
       "2             0        2007         1           USD  \n",
       "3             0        1106         7           CAD  \n",
       "4             0         373         1           CAD  \n",
       "...         ...         ...       ...           ...  \n",
       "62879        43         632         3           USD  \n",
       "62880         0          98         4           EUR  \n",
       "62881         0        1613         2           CAD  \n",
       "62882         0        1717         2           CAD  \n",
       "62883         0         464         7           CAD  \n",
       "\n",
       "[62884 rows x 9 columns]"
      ]
     },
     "execution_count": 20,
     "metadata": {},
     "output_type": "execute_result"
    }
   ],
   "source": [
    "sales_df=pd.read_csv(r'C:\\Users\\Priyanka Malavade\\Desktop\\Data Spark\\DataSet\\Sales.csv',encoding='latin1')\n",
    "sales_df"
   ]
  },
  {
   "cell_type": "code",
   "execution_count": 21,
   "metadata": {},
   "outputs": [
    {
     "data": {
      "text/plain": [
       "Order Number         0\n",
       "Line Item            0\n",
       "Order Date           0\n",
       "Delivery Date    49719\n",
       "CustomerKey          0\n",
       "StoreKey             0\n",
       "ProductKey           0\n",
       "Quantity             0\n",
       "Currency Code        0\n",
       "dtype: int64"
      ]
     },
     "execution_count": 21,
     "metadata": {},
     "output_type": "execute_result"
    }
   ],
   "source": [
    "sales_df.isnull().sum()"
   ]
  },
  {
   "cell_type": "code",
   "execution_count": 22,
   "metadata": {},
   "outputs": [
    {
     "data": {
      "text/plain": [
       "Order Number      int64\n",
       "Line Item         int64\n",
       "Order Date       object\n",
       "Delivery Date    object\n",
       "CustomerKey       int64\n",
       "StoreKey          int64\n",
       "ProductKey        int64\n",
       "Quantity          int64\n",
       "Currency Code    object\n",
       "dtype: object"
      ]
     },
     "execution_count": 22,
     "metadata": {},
     "output_type": "execute_result"
    }
   ],
   "source": [
    "sales_df.dtypes"
   ]
  },
  {
   "cell_type": "code",
   "execution_count": 23,
   "metadata": {},
   "outputs": [
    {
     "name": "stdout",
     "output_type": "stream",
     "text": [
      "Number of duplicate rows: 0\n"
     ]
    }
   ],
   "source": [
    "print(f\"Number of duplicate rows: {sales_df.duplicated().sum()}\")\n"
   ]
  },
  {
   "cell_type": "code",
   "execution_count": 24,
   "metadata": {},
   "outputs": [
    {
     "data": {
      "text/html": [
       "<div>\n",
       "<style scoped>\n",
       "    .dataframe tbody tr th:only-of-type {\n",
       "        vertical-align: middle;\n",
       "    }\n",
       "\n",
       "    .dataframe tbody tr th {\n",
       "        vertical-align: top;\n",
       "    }\n",
       "\n",
       "    .dataframe thead th {\n",
       "        text-align: right;\n",
       "    }\n",
       "</style>\n",
       "<table border=\"1\" class=\"dataframe\">\n",
       "  <thead>\n",
       "    <tr style=\"text-align: right;\">\n",
       "      <th></th>\n",
       "      <th>Order Number</th>\n",
       "      <th>Line Item</th>\n",
       "      <th>Order Date</th>\n",
       "      <th>Delivery Date</th>\n",
       "      <th>CustomerKey</th>\n",
       "      <th>StoreKey</th>\n",
       "      <th>ProductKey</th>\n",
       "      <th>Quantity</th>\n",
       "      <th>Currency Code</th>\n",
       "    </tr>\n",
       "  </thead>\n",
       "  <tbody>\n",
       "    <tr>\n",
       "      <th>0</th>\n",
       "      <td>366000</td>\n",
       "      <td>1</td>\n",
       "      <td>2016-01-01</td>\n",
       "      <td>NaT</td>\n",
       "      <td>265598</td>\n",
       "      <td>10</td>\n",
       "      <td>1304</td>\n",
       "      <td>1</td>\n",
       "      <td>CAD</td>\n",
       "    </tr>\n",
       "    <tr>\n",
       "      <th>1</th>\n",
       "      <td>366001</td>\n",
       "      <td>1</td>\n",
       "      <td>2016-01-01</td>\n",
       "      <td>2016-01-13</td>\n",
       "      <td>1269051</td>\n",
       "      <td>0</td>\n",
       "      <td>1048</td>\n",
       "      <td>2</td>\n",
       "      <td>USD</td>\n",
       "    </tr>\n",
       "    <tr>\n",
       "      <th>2</th>\n",
       "      <td>366001</td>\n",
       "      <td>2</td>\n",
       "      <td>2016-01-01</td>\n",
       "      <td>2016-01-13</td>\n",
       "      <td>1269051</td>\n",
       "      <td>0</td>\n",
       "      <td>2007</td>\n",
       "      <td>1</td>\n",
       "      <td>USD</td>\n",
       "    </tr>\n",
       "  </tbody>\n",
       "</table>\n",
       "</div>"
      ],
      "text/plain": [
       "   Order Number  Line Item Order Date Delivery Date  CustomerKey  StoreKey  \\\n",
       "0        366000          1 2016-01-01           NaT       265598        10   \n",
       "1        366001          1 2016-01-01    2016-01-13      1269051         0   \n",
       "2        366001          2 2016-01-01    2016-01-13      1269051         0   \n",
       "\n",
       "   ProductKey  Quantity Currency Code  \n",
       "0        1304         1           CAD  \n",
       "1        1048         2           USD  \n",
       "2        2007         1           USD  "
      ]
     },
     "execution_count": 24,
     "metadata": {},
     "output_type": "execute_result"
    }
   ],
   "source": [
    "#converting to datetime format\n",
    "sales_df['Order Date'] = pd.to_datetime(sales_df['Order Date'], errors='coerce')\n",
    "sales_df['Delivery Date'] = pd.to_datetime(sales_df['Delivery Date'], errors='coerce')\n",
    "sales_df.head(3)"
   ]
  },
  {
   "cell_type": "code",
   "execution_count": 25,
   "metadata": {},
   "outputs": [],
   "source": [
    "# converting quantity to numeric\n",
    "sales_df['Quantity'] = pd.to_numeric(sales_df['Quantity'], errors='coerce')\n",
    "# Fills missing quantities with 0\n",
    "sales_df['Quantity'] = sales_df['Quantity'].fillna(0)  \n",
    "# Removes rows where Quantity is 0 or less \n",
    "sales_df = sales_df[sales_df['Quantity'] > 0]  \n"
   ]
  },
  {
   "cell_type": "code",
   "execution_count": 26,
   "metadata": {},
   "outputs": [
    {
     "data": {
      "text/plain": [
       "array(['CAD', 'USD', 'GBP', 'EUR', 'AUD'], dtype=object)"
      ]
     },
     "execution_count": 26,
     "metadata": {},
     "output_type": "execute_result"
    }
   ],
   "source": [
    "sales_df['Currency Code'].unique()   # checking unique currency codes"
   ]
  },
  {
   "cell_type": "code",
   "execution_count": 27,
   "metadata": {},
   "outputs": [],
   "source": [
    "sales_df['Currency Code'] = sales_df['Currency Code'].str.upper() #converting lower case to upper case"
   ]
  },
  {
   "cell_type": "code",
   "execution_count": 28,
   "metadata": {},
   "outputs": [
    {
     "name": "stdout",
     "output_type": "stream",
     "text": [
      "Order Number     0\n",
      "Line Item        0\n",
      "Order Date       0\n",
      "Delivery Date    0\n",
      "CustomerKey      0\n",
      "StoreKey         0\n",
      "ProductKey       0\n",
      "Quantity         0\n",
      "Currency Code    0\n",
      "dtype: int64\n"
     ]
    }
   ],
   "source": [
    "# Use a more understandable placeholder for missing delivery dates\n",
    "sales_df['Delivery Date'] = sales_df['Delivery Date'].fillna('Not Delivered Yet')\n",
    "print(sales_df.isnull().sum())"
   ]
  },
  {
   "cell_type": "code",
   "execution_count": 29,
   "metadata": {},
   "outputs": [],
   "source": [
    "sales_df.to_csv(r'C:\\Users\\Priyanka Malavade\\Desktop\\Data Spark\\cleaned_dataset\\cleaned_sales.csv', index=False)\n"
   ]
  },
  {
   "cell_type": "markdown",
   "metadata": {},
   "source": [
    "## STORES"
   ]
  },
  {
   "cell_type": "code",
   "execution_count": 3,
   "metadata": {},
   "outputs": [
    {
     "data": {
      "text/html": [
       "<div>\n",
       "<style scoped>\n",
       "    .dataframe tbody tr th:only-of-type {\n",
       "        vertical-align: middle;\n",
       "    }\n",
       "\n",
       "    .dataframe tbody tr th {\n",
       "        vertical-align: top;\n",
       "    }\n",
       "\n",
       "    .dataframe thead th {\n",
       "        text-align: right;\n",
       "    }\n",
       "</style>\n",
       "<table border=\"1\" class=\"dataframe\">\n",
       "  <thead>\n",
       "    <tr style=\"text-align: right;\">\n",
       "      <th></th>\n",
       "      <th>StoreKey</th>\n",
       "      <th>Country</th>\n",
       "      <th>State</th>\n",
       "      <th>Square Meters</th>\n",
       "      <th>Open Date</th>\n",
       "    </tr>\n",
       "  </thead>\n",
       "  <tbody>\n",
       "    <tr>\n",
       "      <th>0</th>\n",
       "      <td>1</td>\n",
       "      <td>Australia</td>\n",
       "      <td>Australian Capital Territory</td>\n",
       "      <td>595.0</td>\n",
       "      <td>1/1/2008</td>\n",
       "    </tr>\n",
       "    <tr>\n",
       "      <th>1</th>\n",
       "      <td>2</td>\n",
       "      <td>Australia</td>\n",
       "      <td>Northern Territory</td>\n",
       "      <td>665.0</td>\n",
       "      <td>1/12/2008</td>\n",
       "    </tr>\n",
       "    <tr>\n",
       "      <th>2</th>\n",
       "      <td>3</td>\n",
       "      <td>Australia</td>\n",
       "      <td>South Australia</td>\n",
       "      <td>2000.0</td>\n",
       "      <td>1/7/2012</td>\n",
       "    </tr>\n",
       "    <tr>\n",
       "      <th>3</th>\n",
       "      <td>4</td>\n",
       "      <td>Australia</td>\n",
       "      <td>Tasmania</td>\n",
       "      <td>2000.0</td>\n",
       "      <td>1/1/2010</td>\n",
       "    </tr>\n",
       "    <tr>\n",
       "      <th>4</th>\n",
       "      <td>5</td>\n",
       "      <td>Australia</td>\n",
       "      <td>Victoria</td>\n",
       "      <td>2000.0</td>\n",
       "      <td>12/9/2015</td>\n",
       "    </tr>\n",
       "    <tr>\n",
       "      <th>...</th>\n",
       "      <td>...</td>\n",
       "      <td>...</td>\n",
       "      <td>...</td>\n",
       "      <td>...</td>\n",
       "      <td>...</td>\n",
       "    </tr>\n",
       "    <tr>\n",
       "      <th>62</th>\n",
       "      <td>63</td>\n",
       "      <td>United States</td>\n",
       "      <td>Utah</td>\n",
       "      <td>2000.0</td>\n",
       "      <td>3/6/2008</td>\n",
       "    </tr>\n",
       "    <tr>\n",
       "      <th>63</th>\n",
       "      <td>64</td>\n",
       "      <td>United States</td>\n",
       "      <td>Washington DC</td>\n",
       "      <td>1330.0</td>\n",
       "      <td>1/1/2010</td>\n",
       "    </tr>\n",
       "    <tr>\n",
       "      <th>64</th>\n",
       "      <td>65</td>\n",
       "      <td>United States</td>\n",
       "      <td>West Virginia</td>\n",
       "      <td>1785.0</td>\n",
       "      <td>1/1/2012</td>\n",
       "    </tr>\n",
       "    <tr>\n",
       "      <th>65</th>\n",
       "      <td>66</td>\n",
       "      <td>United States</td>\n",
       "      <td>Wyoming</td>\n",
       "      <td>840.0</td>\n",
       "      <td>1/1/2014</td>\n",
       "    </tr>\n",
       "    <tr>\n",
       "      <th>66</th>\n",
       "      <td>0</td>\n",
       "      <td>Online</td>\n",
       "      <td>Online</td>\n",
       "      <td>NaN</td>\n",
       "      <td>1/1/2010</td>\n",
       "    </tr>\n",
       "  </tbody>\n",
       "</table>\n",
       "<p>67 rows × 5 columns</p>\n",
       "</div>"
      ],
      "text/plain": [
       "    StoreKey        Country                         State  Square Meters  \\\n",
       "0          1      Australia  Australian Capital Territory          595.0   \n",
       "1          2      Australia            Northern Territory          665.0   \n",
       "2          3      Australia               South Australia         2000.0   \n",
       "3          4      Australia                      Tasmania         2000.0   \n",
       "4          5      Australia                      Victoria         2000.0   \n",
       "..       ...            ...                           ...            ...   \n",
       "62        63  United States                          Utah         2000.0   \n",
       "63        64  United States                 Washington DC         1330.0   \n",
       "64        65  United States                 West Virginia         1785.0   \n",
       "65        66  United States                       Wyoming          840.0   \n",
       "66         0         Online                        Online            NaN   \n",
       "\n",
       "    Open Date  \n",
       "0    1/1/2008  \n",
       "1   1/12/2008  \n",
       "2    1/7/2012  \n",
       "3    1/1/2010  \n",
       "4   12/9/2015  \n",
       "..        ...  \n",
       "62   3/6/2008  \n",
       "63   1/1/2010  \n",
       "64   1/1/2012  \n",
       "65   1/1/2014  \n",
       "66   1/1/2010  \n",
       "\n",
       "[67 rows x 5 columns]"
      ]
     },
     "execution_count": 3,
     "metadata": {},
     "output_type": "execute_result"
    }
   ],
   "source": [
    "import pandas as pd\n",
    "stores_df=pd.read_csv(r'C:\\Users\\Priyanka Malavade\\Desktop\\Data Spark\\DataSet\\Stores.csv',encoding='latin1')\n",
    "stores_df"
   ]
  },
  {
   "cell_type": "code",
   "execution_count": 4,
   "metadata": {},
   "outputs": [
    {
     "data": {
      "text/plain": [
       "StoreKey         0\n",
       "Country          0\n",
       "State            0\n",
       "Square Meters    1\n",
       "Open Date        0\n",
       "dtype: int64"
      ]
     },
     "execution_count": 4,
     "metadata": {},
     "output_type": "execute_result"
    }
   ],
   "source": [
    "stores_df.isnull().sum()"
   ]
  },
  {
   "cell_type": "code",
   "execution_count": 5,
   "metadata": {},
   "outputs": [
    {
     "data": {
      "text/plain": [
       "0      595.0\n",
       "1      665.0\n",
       "2     2000.0\n",
       "3     2000.0\n",
       "4     2000.0\n",
       "       ...  \n",
       "62    2000.0\n",
       "63    1330.0\n",
       "64    1785.0\n",
       "65     840.0\n",
       "66    1347.5\n",
       "Name: Square Meters, Length: 67, dtype: float64"
      ]
     },
     "execution_count": 5,
     "metadata": {},
     "output_type": "execute_result"
    }
   ],
   "source": [
    "# Fill missing Square Meters with the median value\n",
    "stores_df['Square Meters'].fillna(stores_df['Square Meters'].median())\n"
   ]
  },
  {
   "cell_type": "code",
   "execution_count": 6,
   "metadata": {},
   "outputs": [
    {
     "data": {
      "text/plain": [
       "StoreKey           int64\n",
       "Country           object\n",
       "State             object\n",
       "Square Meters    float64\n",
       "Open Date         object\n",
       "dtype: object"
      ]
     },
     "execution_count": 6,
     "metadata": {},
     "output_type": "execute_result"
    }
   ],
   "source": [
    "stores_df.dtypes"
   ]
  },
  {
   "cell_type": "code",
   "execution_count": 7,
   "metadata": {},
   "outputs": [
    {
     "name": "stdout",
     "output_type": "stream",
     "text": [
      "0\n"
     ]
    }
   ],
   "source": [
    "# Convert Open Date to datetime format\n",
    "stores_df['Open Date'] = pd.to_datetime(stores_df['Open Date'], errors='coerce')\n",
    "\n",
    "# Convert 'quare Meters to numeric (if not already)\n",
    "stores_df['Square Meters'] = pd.to_numeric(stores_df['Square Meters'], errors='coerce')\n",
    "print(stores_df.duplicated().sum())"
   ]
  },
  {
   "cell_type": "code",
   "execution_count": 8,
   "metadata": {},
   "outputs": [],
   "source": [
    "#Standardizing the country and state name\n",
    "stores_df['Country'] = stores_df['Country'].str.strip().str.title()\n",
    "stores_df['State'] = stores_df['State'].str.strip().str.title()\n"
   ]
  },
  {
   "cell_type": "code",
   "execution_count": 11,
   "metadata": {},
   "outputs": [],
   "source": [
    "stores_df.to_csv(r'C:\\Users\\Priyanka Malavade\\Desktop\\Data Spark\\cleaned_dataset\\cleaned_stores.csv', index=False)\n"
   ]
  },
  {
   "cell_type": "markdown",
   "metadata": {},
   "source": [
    "## EXCHANGE RATES"
   ]
  },
  {
   "cell_type": "code",
   "execution_count": 37,
   "metadata": {},
   "outputs": [
    {
     "data": {
      "text/html": [
       "<div>\n",
       "<style scoped>\n",
       "    .dataframe tbody tr th:only-of-type {\n",
       "        vertical-align: middle;\n",
       "    }\n",
       "\n",
       "    .dataframe tbody tr th {\n",
       "        vertical-align: top;\n",
       "    }\n",
       "\n",
       "    .dataframe thead th {\n",
       "        text-align: right;\n",
       "    }\n",
       "</style>\n",
       "<table border=\"1\" class=\"dataframe\">\n",
       "  <thead>\n",
       "    <tr style=\"text-align: right;\">\n",
       "      <th></th>\n",
       "      <th>Date</th>\n",
       "      <th>Currency</th>\n",
       "      <th>Exchange</th>\n",
       "    </tr>\n",
       "  </thead>\n",
       "  <tbody>\n",
       "    <tr>\n",
       "      <th>0</th>\n",
       "      <td>1/1/2015</td>\n",
       "      <td>USD</td>\n",
       "      <td>1.0000</td>\n",
       "    </tr>\n",
       "    <tr>\n",
       "      <th>1</th>\n",
       "      <td>1/1/2015</td>\n",
       "      <td>CAD</td>\n",
       "      <td>1.1583</td>\n",
       "    </tr>\n",
       "    <tr>\n",
       "      <th>2</th>\n",
       "      <td>1/1/2015</td>\n",
       "      <td>AUD</td>\n",
       "      <td>1.2214</td>\n",
       "    </tr>\n",
       "    <tr>\n",
       "      <th>3</th>\n",
       "      <td>1/1/2015</td>\n",
       "      <td>EUR</td>\n",
       "      <td>0.8237</td>\n",
       "    </tr>\n",
       "    <tr>\n",
       "      <th>4</th>\n",
       "      <td>1/1/2015</td>\n",
       "      <td>GBP</td>\n",
       "      <td>0.6415</td>\n",
       "    </tr>\n",
       "    <tr>\n",
       "      <th>...</th>\n",
       "      <td>...</td>\n",
       "      <td>...</td>\n",
       "      <td>...</td>\n",
       "    </tr>\n",
       "    <tr>\n",
       "      <th>11210</th>\n",
       "      <td>2/20/2021</td>\n",
       "      <td>USD</td>\n",
       "      <td>1.0000</td>\n",
       "    </tr>\n",
       "    <tr>\n",
       "      <th>11211</th>\n",
       "      <td>2/20/2021</td>\n",
       "      <td>CAD</td>\n",
       "      <td>1.2610</td>\n",
       "    </tr>\n",
       "    <tr>\n",
       "      <th>11212</th>\n",
       "      <td>2/20/2021</td>\n",
       "      <td>AUD</td>\n",
       "      <td>1.2723</td>\n",
       "    </tr>\n",
       "    <tr>\n",
       "      <th>11213</th>\n",
       "      <td>2/20/2021</td>\n",
       "      <td>EUR</td>\n",
       "      <td>0.8238</td>\n",
       "    </tr>\n",
       "    <tr>\n",
       "      <th>11214</th>\n",
       "      <td>2/20/2021</td>\n",
       "      <td>GBP</td>\n",
       "      <td>0.7126</td>\n",
       "    </tr>\n",
       "  </tbody>\n",
       "</table>\n",
       "<p>11215 rows × 3 columns</p>\n",
       "</div>"
      ],
      "text/plain": [
       "            Date Currency  Exchange\n",
       "0       1/1/2015      USD    1.0000\n",
       "1       1/1/2015      CAD    1.1583\n",
       "2       1/1/2015      AUD    1.2214\n",
       "3       1/1/2015      EUR    0.8237\n",
       "4       1/1/2015      GBP    0.6415\n",
       "...          ...      ...       ...\n",
       "11210  2/20/2021      USD    1.0000\n",
       "11211  2/20/2021      CAD    1.2610\n",
       "11212  2/20/2021      AUD    1.2723\n",
       "11213  2/20/2021      EUR    0.8238\n",
       "11214  2/20/2021      GBP    0.7126\n",
       "\n",
       "[11215 rows x 3 columns]"
      ]
     },
     "execution_count": 37,
     "metadata": {},
     "output_type": "execute_result"
    }
   ],
   "source": [
    "exchange_rates_df=pd.read_csv(r'C:\\Users\\Priyanka Malavade\\Desktop\\Data Spark\\DataSet\\Exchange_Rates.csv',encoding='latin1')\n",
    "exchange_rates_df"
   ]
  },
  {
   "cell_type": "code",
   "execution_count": 38,
   "metadata": {},
   "outputs": [
    {
     "data": {
      "text/plain": [
       "Date        0\n",
       "Currency    0\n",
       "Exchange    0\n",
       "dtype: int64"
      ]
     },
     "execution_count": 38,
     "metadata": {},
     "output_type": "execute_result"
    }
   ],
   "source": [
    "exchange_rates_df.isnull().sum()"
   ]
  },
  {
   "cell_type": "code",
   "execution_count": 39,
   "metadata": {},
   "outputs": [
    {
     "data": {
      "text/plain": [
       "Date         object\n",
       "Currency     object\n",
       "Exchange    float64\n",
       "dtype: object"
      ]
     },
     "execution_count": 39,
     "metadata": {},
     "output_type": "execute_result"
    }
   ],
   "source": [
    "exchange_rates_df.dtypes"
   ]
  },
  {
   "cell_type": "code",
   "execution_count": 40,
   "metadata": {},
   "outputs": [
    {
     "name": "stdout",
     "output_type": "stream",
     "text": [
      "0\n"
     ]
    }
   ],
   "source": [
    "# Convert 'Date' column to datetime format\n",
    "exchange_rates_df['Date'] = pd.to_datetime(exchange_rates_df['Date'], format='%m/%d/%Y')\n",
    "#converting to numeric \n",
    "exchange_rates_df['Exchange'] = pd.to_numeric(exchange_rates_df['Exchange'], errors='coerce')\n",
    "print(exchange_rates_df.duplicated().sum())"
   ]
  },
  {
   "cell_type": "code",
   "execution_count": 41,
   "metadata": {},
   "outputs": [
    {
     "data": {
      "text/plain": [
       "array(['USD', 'CAD', 'AUD', 'EUR', 'GBP'], dtype=object)"
      ]
     },
     "execution_count": 41,
     "metadata": {},
     "output_type": "execute_result"
    }
   ],
   "source": [
    "exchange_rates_df['Currency'].unique()"
   ]
  },
  {
   "cell_type": "code",
   "execution_count": 42,
   "metadata": {},
   "outputs": [],
   "source": [
    "exchange_rates_df.sort_values(by='Date', inplace=True)"
   ]
  },
  {
   "cell_type": "code",
   "execution_count": 43,
   "metadata": {},
   "outputs": [],
   "source": [
    "exchange_rates_df.to_csv(r'C:\\Users\\Priyanka Malavade\\Desktop\\Data Spark\\cleaned_dataset\\cleaned_exchange_rates.csv', index=False)"
   ]
  },
  {
   "cell_type": "markdown",
   "metadata": {},
   "source": [
    "## DATA DICTIONARY"
   ]
  },
  {
   "cell_type": "code",
   "execution_count": 44,
   "metadata": {},
   "outputs": [
    {
     "data": {
      "text/html": [
       "<div>\n",
       "<style scoped>\n",
       "    .dataframe tbody tr th:only-of-type {\n",
       "        vertical-align: middle;\n",
       "    }\n",
       "\n",
       "    .dataframe tbody tr th {\n",
       "        vertical-align: top;\n",
       "    }\n",
       "\n",
       "    .dataframe thead th {\n",
       "        text-align: right;\n",
       "    }\n",
       "</style>\n",
       "<table border=\"1\" class=\"dataframe\">\n",
       "  <thead>\n",
       "    <tr style=\"text-align: right;\">\n",
       "      <th></th>\n",
       "      <th>Table</th>\n",
       "      <th>Field</th>\n",
       "      <th>Description</th>\n",
       "    </tr>\n",
       "  </thead>\n",
       "  <tbody>\n",
       "    <tr>\n",
       "      <th>0</th>\n",
       "      <td>Sales</td>\n",
       "      <td>Order Number</td>\n",
       "      <td>Unique ID for each order</td>\n",
       "    </tr>\n",
       "    <tr>\n",
       "      <th>1</th>\n",
       "      <td>Sales</td>\n",
       "      <td>Line Item</td>\n",
       "      <td>Identifies individual products purchased as pa...</td>\n",
       "    </tr>\n",
       "    <tr>\n",
       "      <th>2</th>\n",
       "      <td>Sales</td>\n",
       "      <td>Order Date</td>\n",
       "      <td>Date the order was placed</td>\n",
       "    </tr>\n",
       "    <tr>\n",
       "      <th>3</th>\n",
       "      <td>Sales</td>\n",
       "      <td>Delivery Date</td>\n",
       "      <td>Date the order was delivered</td>\n",
       "    </tr>\n",
       "    <tr>\n",
       "      <th>4</th>\n",
       "      <td>Sales</td>\n",
       "      <td>CustomerKey</td>\n",
       "      <td>Unique key identifying which customer placed t...</td>\n",
       "    </tr>\n",
       "    <tr>\n",
       "      <th>5</th>\n",
       "      <td>Sales</td>\n",
       "      <td>StoreKey</td>\n",
       "      <td>Unique key identifying which store processed t...</td>\n",
       "    </tr>\n",
       "    <tr>\n",
       "      <th>6</th>\n",
       "      <td>Sales</td>\n",
       "      <td>ProductKey</td>\n",
       "      <td>Unique key identifying which product was purch...</td>\n",
       "    </tr>\n",
       "    <tr>\n",
       "      <th>7</th>\n",
       "      <td>Sales</td>\n",
       "      <td>Quantity</td>\n",
       "      <td>Number of items purchased</td>\n",
       "    </tr>\n",
       "    <tr>\n",
       "      <th>8</th>\n",
       "      <td>Sales</td>\n",
       "      <td>Currency Code</td>\n",
       "      <td>Currency used to process the order</td>\n",
       "    </tr>\n",
       "    <tr>\n",
       "      <th>9</th>\n",
       "      <td>Customers</td>\n",
       "      <td>CustomerKey</td>\n",
       "      <td>Primary key to identify customers</td>\n",
       "    </tr>\n",
       "    <tr>\n",
       "      <th>10</th>\n",
       "      <td>Customers</td>\n",
       "      <td>Gender</td>\n",
       "      <td>Customer gender</td>\n",
       "    </tr>\n",
       "    <tr>\n",
       "      <th>11</th>\n",
       "      <td>Customers</td>\n",
       "      <td>Name</td>\n",
       "      <td>Customer full name</td>\n",
       "    </tr>\n",
       "    <tr>\n",
       "      <th>12</th>\n",
       "      <td>Customers</td>\n",
       "      <td>City</td>\n",
       "      <td>Customer city</td>\n",
       "    </tr>\n",
       "    <tr>\n",
       "      <th>13</th>\n",
       "      <td>Customers</td>\n",
       "      <td>State Code</td>\n",
       "      <td>Customer state (abbreviated)</td>\n",
       "    </tr>\n",
       "    <tr>\n",
       "      <th>14</th>\n",
       "      <td>Customers</td>\n",
       "      <td>State</td>\n",
       "      <td>Customer state (full)</td>\n",
       "    </tr>\n",
       "    <tr>\n",
       "      <th>15</th>\n",
       "      <td>Customers</td>\n",
       "      <td>Zip Code</td>\n",
       "      <td>Customer zip code</td>\n",
       "    </tr>\n",
       "    <tr>\n",
       "      <th>16</th>\n",
       "      <td>Customers</td>\n",
       "      <td>Country</td>\n",
       "      <td>Customer country</td>\n",
       "    </tr>\n",
       "    <tr>\n",
       "      <th>17</th>\n",
       "      <td>Customers</td>\n",
       "      <td>Continent</td>\n",
       "      <td>Customer continent</td>\n",
       "    </tr>\n",
       "    <tr>\n",
       "      <th>18</th>\n",
       "      <td>Customers</td>\n",
       "      <td>Birthday</td>\n",
       "      <td>Customer date of birth</td>\n",
       "    </tr>\n",
       "    <tr>\n",
       "      <th>19</th>\n",
       "      <td>Products</td>\n",
       "      <td>ProductKey</td>\n",
       "      <td>Primary key to identify products</td>\n",
       "    </tr>\n",
       "    <tr>\n",
       "      <th>20</th>\n",
       "      <td>Products</td>\n",
       "      <td>Product Name</td>\n",
       "      <td>Product name</td>\n",
       "    </tr>\n",
       "    <tr>\n",
       "      <th>21</th>\n",
       "      <td>Products</td>\n",
       "      <td>Brand</td>\n",
       "      <td>Product brand</td>\n",
       "    </tr>\n",
       "    <tr>\n",
       "      <th>22</th>\n",
       "      <td>Products</td>\n",
       "      <td>Color</td>\n",
       "      <td>Product color</td>\n",
       "    </tr>\n",
       "    <tr>\n",
       "      <th>23</th>\n",
       "      <td>Products</td>\n",
       "      <td>Unit Cost USD</td>\n",
       "      <td>Cost to produce the product in USD</td>\n",
       "    </tr>\n",
       "    <tr>\n",
       "      <th>24</th>\n",
       "      <td>Products</td>\n",
       "      <td>Unit Price USD</td>\n",
       "      <td>Product list price in USD</td>\n",
       "    </tr>\n",
       "    <tr>\n",
       "      <th>25</th>\n",
       "      <td>Products</td>\n",
       "      <td>SubcategoryKey</td>\n",
       "      <td>Key to identify product subcategories</td>\n",
       "    </tr>\n",
       "    <tr>\n",
       "      <th>26</th>\n",
       "      <td>Products</td>\n",
       "      <td>Subcategory</td>\n",
       "      <td>Product subcategory name</td>\n",
       "    </tr>\n",
       "    <tr>\n",
       "      <th>27</th>\n",
       "      <td>Products</td>\n",
       "      <td>CategoryKey</td>\n",
       "      <td>Key to identify product categories</td>\n",
       "    </tr>\n",
       "    <tr>\n",
       "      <th>28</th>\n",
       "      <td>Products</td>\n",
       "      <td>Category</td>\n",
       "      <td>Product category name</td>\n",
       "    </tr>\n",
       "    <tr>\n",
       "      <th>29</th>\n",
       "      <td>Stores</td>\n",
       "      <td>StoreKey</td>\n",
       "      <td>Primary key to identify stores</td>\n",
       "    </tr>\n",
       "    <tr>\n",
       "      <th>30</th>\n",
       "      <td>Stores</td>\n",
       "      <td>Country</td>\n",
       "      <td>Store country</td>\n",
       "    </tr>\n",
       "    <tr>\n",
       "      <th>31</th>\n",
       "      <td>Stores</td>\n",
       "      <td>State</td>\n",
       "      <td>Store state</td>\n",
       "    </tr>\n",
       "    <tr>\n",
       "      <th>32</th>\n",
       "      <td>Stores</td>\n",
       "      <td>Square Meters</td>\n",
       "      <td>Store footprint in square meters</td>\n",
       "    </tr>\n",
       "    <tr>\n",
       "      <th>33</th>\n",
       "      <td>Stores</td>\n",
       "      <td>Open Date</td>\n",
       "      <td>Store open date</td>\n",
       "    </tr>\n",
       "    <tr>\n",
       "      <th>34</th>\n",
       "      <td>Exchange Rates</td>\n",
       "      <td>Date</td>\n",
       "      <td>Date</td>\n",
       "    </tr>\n",
       "    <tr>\n",
       "      <th>35</th>\n",
       "      <td>Exchange Rates</td>\n",
       "      <td>Currency</td>\n",
       "      <td>Currency code</td>\n",
       "    </tr>\n",
       "    <tr>\n",
       "      <th>36</th>\n",
       "      <td>Exchange Rates</td>\n",
       "      <td>Exchange</td>\n",
       "      <td>Exchange rate compared to USD</td>\n",
       "    </tr>\n",
       "  </tbody>\n",
       "</table>\n",
       "</div>"
      ],
      "text/plain": [
       "             Table           Field  \\\n",
       "0            Sales    Order Number   \n",
       "1            Sales       Line Item   \n",
       "2            Sales      Order Date   \n",
       "3            Sales   Delivery Date   \n",
       "4            Sales     CustomerKey   \n",
       "5            Sales        StoreKey   \n",
       "6            Sales      ProductKey   \n",
       "7            Sales        Quantity   \n",
       "8            Sales   Currency Code   \n",
       "9        Customers     CustomerKey   \n",
       "10       Customers          Gender   \n",
       "11       Customers            Name   \n",
       "12       Customers            City   \n",
       "13       Customers      State Code   \n",
       "14       Customers           State   \n",
       "15       Customers        Zip Code   \n",
       "16       Customers         Country   \n",
       "17       Customers       Continent   \n",
       "18       Customers        Birthday   \n",
       "19        Products      ProductKey   \n",
       "20        Products    Product Name   \n",
       "21        Products           Brand   \n",
       "22        Products           Color   \n",
       "23        Products   Unit Cost USD   \n",
       "24        Products  Unit Price USD   \n",
       "25        Products  SubcategoryKey   \n",
       "26        Products     Subcategory   \n",
       "27        Products     CategoryKey   \n",
       "28        Products        Category   \n",
       "29          Stores        StoreKey   \n",
       "30          Stores         Country   \n",
       "31          Stores           State   \n",
       "32          Stores   Square Meters   \n",
       "33          Stores       Open Date   \n",
       "34  Exchange Rates            Date   \n",
       "35  Exchange Rates        Currency   \n",
       "36  Exchange Rates        Exchange   \n",
       "\n",
       "                                          Description  \n",
       "0                            Unique ID for each order  \n",
       "1   Identifies individual products purchased as pa...  \n",
       "2                           Date the order was placed  \n",
       "3                        Date the order was delivered  \n",
       "4   Unique key identifying which customer placed t...  \n",
       "5   Unique key identifying which store processed t...  \n",
       "6   Unique key identifying which product was purch...  \n",
       "7                           Number of items purchased  \n",
       "8                  Currency used to process the order  \n",
       "9                   Primary key to identify customers  \n",
       "10                                    Customer gender  \n",
       "11                                 Customer full name  \n",
       "12                                      Customer city  \n",
       "13                       Customer state (abbreviated)  \n",
       "14                              Customer state (full)  \n",
       "15                                  Customer zip code  \n",
       "16                                   Customer country  \n",
       "17                                 Customer continent  \n",
       "18                             Customer date of birth  \n",
       "19                   Primary key to identify products  \n",
       "20                                       Product name  \n",
       "21                                      Product brand  \n",
       "22                                      Product color  \n",
       "23                 Cost to produce the product in USD  \n",
       "24                          Product list price in USD  \n",
       "25              Key to identify product subcategories  \n",
       "26                           Product subcategory name  \n",
       "27                 Key to identify product categories  \n",
       "28                              Product category name  \n",
       "29                     Primary key to identify stores  \n",
       "30                                      Store country  \n",
       "31                                        Store state  \n",
       "32                   Store footprint in square meters  \n",
       "33                                    Store open date  \n",
       "34                                               Date  \n",
       "35                                      Currency code  \n",
       "36                      Exchange rate compared to USD  "
      ]
     },
     "execution_count": 44,
     "metadata": {},
     "output_type": "execute_result"
    }
   ],
   "source": [
    "dd_df=pd.read_csv(r'C:\\Users\\Priyanka Malavade\\Desktop\\Data Spark\\DataSet\\Data_Dictionary.csv',encoding='latin1')\n",
    "dd_df"
   ]
  },
  {
   "cell_type": "code",
   "execution_count": 45,
   "metadata": {},
   "outputs": [
    {
     "data": {
      "text/plain": [
       "Table          0\n",
       "Field          0\n",
       "Description    0\n",
       "dtype: int64"
      ]
     },
     "execution_count": 45,
     "metadata": {},
     "output_type": "execute_result"
    }
   ],
   "source": [
    "dd_df.isnull().sum()"
   ]
  },
  {
   "cell_type": "code",
   "execution_count": 46,
   "metadata": {},
   "outputs": [
    {
     "data": {
      "text/plain": [
       "Table          object\n",
       "Field          object\n",
       "Description    object\n",
       "dtype: object"
      ]
     },
     "execution_count": 46,
     "metadata": {},
     "output_type": "execute_result"
    }
   ],
   "source": [
    "dd_df.dtypes"
   ]
  },
  {
   "cell_type": "code",
   "execution_count": 47,
   "metadata": {},
   "outputs": [],
   "source": [
    "dd_df.to_csv(r'C:\\Users\\Priyanka Malavade\\Desktop\\Data Spark\\cleaned_dataset\\cleaned_data_dictionary.csv',index=False)"
   ]
  }
 ],
 "metadata": {
  "kernelspec": {
   "display_name": "Python 3",
   "language": "python",
   "name": "python3"
  },
  "language_info": {
   "codemirror_mode": {
    "name": "ipython",
    "version": 3
   },
   "file_extension": ".py",
   "mimetype": "text/x-python",
   "name": "python",
   "nbconvert_exporter": "python",
   "pygments_lexer": "ipython3",
   "version": "3.13.1"
  }
 },
 "nbformat": 4,
 "nbformat_minor": 2
}
